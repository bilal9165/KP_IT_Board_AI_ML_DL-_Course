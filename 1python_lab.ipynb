{
 "cells": [
  {
   "cell_type": "markdown",
   "id": "45eb8d15",
   "metadata": {},
   "source": [
    "# 🐍 Python Lab – Beginner Friendly\n",
    "This notebook contains Q/A + runnable examples for Python basics."
   ]
  },
  {
   "cell_type": "markdown",
   "id": "de77a5da",
   "metadata": {},
   "source": [
    "## 1. What is Python?\n",
    "**Answer:** Python = Simple English for computers. 🧠 Think of a python snake → smooth moves → smooth code."
   ]
  },
  {
   "cell_type": "code",
   "execution_count": 4,
   "id": "c1d85418",
   "metadata": {},
   "outputs": [
    {
     "name": "stdout",
     "output_type": "stream",
     "text": [
      "Hello, World\n",
      "Python = Simple English for computers\n"
     ]
    }
   ],
   "source": [
    "print(\"Hello, World\")\n",
    "print(\"Python = Simple English for computers\")"
   ]
  },
  {
   "cell_type": "markdown",
   "id": "91f715e5",
   "metadata": {},
   "source": [
    "## 2. Variables & Data Types\n",
    "**Answer:** Variables are containers for data."
   ]
  },
  {
   "cell_type": "code",
   "execution_count": 5,
   "id": "0ca54b2c",
   "metadata": {},
   "outputs": [
    {
     "name": "stdout",
     "output_type": "stream",
     "text": [
      "Name: Bilal\n",
      "Age: 25\n",
      "Pi value: 3.14\n",
      "Student: True\n",
      "Numbers: [1, 2, 3]\n",
      "Days: ('Mon', 'Tue')\n",
      "Info: {'name': 'Bilal'}\n"
     ]
    }
   ],
   "source": [
    "name = \"Bilal\"\n",
    "age = 25\n",
    "pi = 3.14\n",
    "is_student = True\n",
    "\n",
    "print(\"Name:\", name)\n",
    "print(\"Age:\", age)\n",
    "print(\"Pi value:\", pi)\n",
    "print(\"Student:\", is_student)\n",
    "\n",
    "nums = [1,2,3]   # list\n",
    "days = (\"Mon\",\"Tue\") # tuple\n",
    "info = {\"name\":\"Bilal\"} # dict\n",
    "print(\"Numbers:\", nums)\n",
    "print(\"Days:\", days)\n",
    "print(\"Info:\", info)"
   ]
  },
  {
   "cell_type": "markdown",
   "id": "e9786467",
   "metadata": {},
   "source": [
    "## 3. Conditional Statements\n",
    "**Answer:** Decisions with if, else, elif."
   ]
  },
  {
   "cell_type": "code",
   "execution_count": 6,
   "id": "9dead01f",
   "metadata": {},
   "outputs": [
    {
     "name": "stdout",
     "output_type": "stream",
     "text": [
      "You can vote ✅\n",
      "Eat burger 🍔\n",
      "x > 0 and x < 10: True\n",
      "x > 10 or x == 5: True\n",
      "not(x == 5): False\n"
     ]
    }
   ],
   "source": [
    "age = 18\n",
    "if age >= 18:\n",
    "    print(\"You can vote ✅\")\n",
    "else:\n",
    "    print(\"Too young ❌\")\n",
    "\n",
    "food = \"burger\"\n",
    "if food == \"pizza\":\n",
    "    print(\"Eat pizza 🍕\")\n",
    "elif food == \"burger\":\n",
    "    print(\"Eat burger 🍔\")\n",
    "else:\n",
    "    print(\"Drink water 💧\")\n",
    "\n",
    "x = 5\n",
    "print(\"x > 0 and x < 10:\", x > 0 and x < 10)\n",
    "print(\"x > 10 or x == 5:\", x > 10 or x == 5)\n",
    "print(\"not(x == 5):\", not(x == 5))"
   ]
  },
  {
   "cell_type": "markdown",
   "id": "ea6b9f49",
   "metadata": {},
   "source": [
    "## 4. Loops & Iteration\n",
    "**Answer:** Repeat tasks using for/while."
   ]
  },
  {
   "cell_type": "code",
   "execution_count": 8,
   "id": "975b92b0",
   "metadata": {},
   "outputs": [
    {
     "name": "stdout",
     "output_type": "stream",
     "text": [
      "For loop: 0\n",
      "For loop: 1\n",
      "For loop: 2\n",
      "While loop: 0\n",
      "While loop: 1\n",
      "While loop: 2\n",
      "Fruit: apple\n",
      "Fruit: banana\n",
      "Fruit: mango\n",
      "Break loop: 0\n",
      "Break loop: 1\n",
      "Break loop: 2\n",
      "Continue loop: 0\n",
      "Continue loop: 1\n",
      "Continue loop: 3\n",
      "Continue loop: 4\n"
     ]
    }
   ],
   "source": [
    "for i in range(3):\n",
    "    print(\"For loop:\", i)\n",
    "\n",
    "x = 0\n",
    "while x < 3:\n",
    "    print(\"While loop:\", x)\n",
    "    x += 1\n",
    "\n",
    "fruits = [\"apple\",\"banana\",\"mango\"]\n",
    "for fruit in fruits:\n",
    "    print(\"Fruit:\", fruit)\n",
    "\n",
    "for i in range(5):\n",
    "    if i == 3:\n",
    "        break\n",
    "    print(\"Break loop:\", i)\n",
    "\n",
    "for i in range(5):\n",
    "    if i == 2:\n",
    "        continue\n",
    "    print(\"Continue loop:\", i)\n",
    "\n",
    "for i in range(3):\n",
    "    pass  # does nothing"
   ]
  },
  {
   "cell_type": "markdown",
   "id": "447e77a0",
   "metadata": {},
   "source": [
    "## 5. Functions\n",
    "**Answer:** Functions are reusable blocks of code."
   ]
  },
  {
   "cell_type": "code",
   "execution_count": 2,
   "id": "d223cf53",
   "metadata": {},
   "outputs": [
    {
     "name": "stdout",
     "output_type": "stream",
     "text": [
      "Hello, Bilal\n",
      "My name is Bilal, I am 25 years old\n"
     ]
    }
   ],
   "source": [
    "def greet(name):\n",
    "    return f\"Hello, {name}\"\n",
    "\n",
    "print(greet(\"Bilal\"))\n",
    "\n",
    "def intro(name, age):\n",
    "    print(f\"My name is {name}, I am {age} years old\")\n",
    "\n",
    "intro(age=25, name=\"Bilal\")"
   ]
  },
  {
   "cell_type": "markdown",
   "id": "6e457a2e",
   "metadata": {},
   "source": [
    "## 6. Global vs Local Variables\n",
    "**Answer:** Global variables are accessible everywhere, local exist only inside a function."
   ]
  },
  {
   "cell_type": "code",
   "execution_count": 1,
   "id": "c19ff868",
   "metadata": {},
   "outputs": [
    {
     "name": "stdout",
     "output_type": "stream",
     "text": [
      "Inside function: local\n",
      "Outside function: global\n",
      "Count after increment: 1\n"
     ]
    }
   ],
   "source": [
    "x = \"global\"\n",
    "\n",
    "def test():\n",
    "    x = \"local\"\n",
    "    print(\"Inside function:\", x)\n",
    "\n",
    "test()\n",
    "print(\"Outside function:\", x)\n",
    "\n",
    "count = 0\n",
    "def increment():\n",
    "    global count\n",
    "    count += 1\n",
    "\n",
    "increment()\n",
    "print(\"Count after increment:\", count)"
   ]
  }
 ],
 "metadata": {
  "kernelspec": {
   "display_name": "Python 3",
   "language": "python",
   "name": "python3"
  },
  "language_info": {
   "codemirror_mode": {
    "name": "ipython",
    "version": 3
   },
   "file_extension": ".py",
   "mimetype": "text/x-python",
   "name": "python",
   "nbconvert_exporter": "python",
   "pygments_lexer": "ipython3",
   "version": "3.13.5"
  }
 },
 "nbformat": 4,
 "nbformat_minor": 5
}
